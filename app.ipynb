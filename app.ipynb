{
 "cells": [
  {
   "cell_type": "markdown",
   "metadata": {},
   "source": [
    "### Importing all Libraries"
   ]
  },
  {
   "cell_type": "code",
   "execution_count": 1,
   "metadata": {},
   "outputs": [],
   "source": [
    "import streamlit as st\n",
    "from langchain.prompts import PromptTemplate\n",
    "from langchain.llms import CTransformers"
   ]
  },
  {
   "cell_type": "markdown",
   "metadata": {},
   "source": [
    "### Function getting response from Llama 2 Model"
   ]
  },
  {
   "cell_type": "code",
   "execution_count": 9,
   "metadata": {},
   "outputs": [],
   "source": [
    "\n",
    "def getllamaresponse(input_text, no_words, blog_style):\n",
    "    llm = CTransformers(model='C:/Users/vinee/Documents/Llama2/models/llama-2-7b-chat.ggmlv3.q8_0.bin',\n",
    "                        model_type = 'llama',\n",
    "                        config= {'max_new_token': 256, 'temperature': 0.01}\n",
    "                        )\n",
    "    \n",
    "    # Prompt Template\n",
    "    template = ''' Write a blog for {blog_style} job profile for the topic {input_text}\n",
    "                 within {no_words} words.\n",
    "            '''\n",
    "\n",
    "    prompt = PromptTemplate(input_variables= ['blog_style', 'input_text', 'no_words'],\n",
    "                        template=template)\n",
    "    \n",
    "    # Generating response\n",
    "    response = llm(prompt.format(blog_style=blog_style, input_text= input_text, no_words= no_words))\n",
    "    print(response )\n",
    "\n",
    "    return response"
   ]
  },
  {
   "cell_type": "code",
   "execution_count": 3,
   "metadata": {},
   "outputs": [
    {
     "name": "stderr",
     "output_type": "stream",
     "text": [
      "2024-08-10 03:46:35.547 \n",
      "  \u001b[33m\u001b[1mWarning:\u001b[0m to view this Streamlit app on a browser, run it with the following\n",
      "  command:\n",
      "\n",
      "    streamlit run c:\\Python\\Lib\\site-packages\\ipykernel_launcher.py [ARGUMENTS]\n"
     ]
    },
    {
     "data": {
      "text/plain": [
       "DeltaGenerator()"
      ]
     },
     "execution_count": 3,
     "metadata": {},
     "output_type": "execute_result"
    }
   ],
   "source": [
    "st.set_page_config(page_title= \"Generate Blogs\",\n",
    "                   page_icon=\"Robot\",\n",
    "                   layout=\"centered\",\n",
    "                   initial_sidebar_state='collapsed'\n",
    "                   )\n",
    "\n",
    "st.header(\"Generate the Blogs\")"
   ]
  },
  {
   "cell_type": "code",
   "execution_count": 4,
   "metadata": {},
   "outputs": [
    {
     "name": "stderr",
     "output_type": "stream",
     "text": [
      "2024-08-10 03:46:37.625 Session state does not function when running a script without `streamlit run`\n"
     ]
    }
   ],
   "source": [
    "input_text = st.text_input(\"Enter your blog topic\")"
   ]
  },
  {
   "cell_type": "code",
   "execution_count": 5,
   "metadata": {},
   "outputs": [],
   "source": [
    "col1,col2 = st.columns([5,5])\n",
    "\n",
    "with col1:\n",
    "    no_words= st.text_input(\"No. of Words\")\n",
    "with col2:\n",
    "    blog_style = st.selectbox('Writing the blog for', ('ML Researcher', 'Data Scientist', 'Others'), index=0)"
   ]
  },
  {
   "cell_type": "code",
   "execution_count": 6,
   "metadata": {},
   "outputs": [],
   "source": [
    "submit=st.button('Generate')"
   ]
  },
  {
   "cell_type": "code",
   "execution_count": 7,
   "metadata": {},
   "outputs": [],
   "source": [
    "if submit:\n",
    "    st.write(getllamaresponse(input_text, no_words, blog_style))"
   ]
  },
  {
   "cell_type": "code",
   "execution_count": null,
   "metadata": {},
   "outputs": [],
   "source": []
  }
 ],
 "metadata": {
  "kernelspec": {
   "display_name": "Python 3",
   "language": "python",
   "name": "python3"
  },
  "language_info": {
   "codemirror_mode": {
    "name": "ipython",
    "version": 3
   },
   "file_extension": ".py",
   "mimetype": "text/x-python",
   "name": "python",
   "nbconvert_exporter": "python",
   "pygments_lexer": "ipython3",
   "version": "3.12.4"
  }
 },
 "nbformat": 4,
 "nbformat_minor": 2
}
